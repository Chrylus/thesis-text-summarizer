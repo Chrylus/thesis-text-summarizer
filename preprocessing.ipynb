{
 "cells": [
  {
   "cell_type": "markdown",
   "metadata": {},
   "source": [
    "## Import and Read Dataset"
   ]
  },
  {
   "cell_type": "code",
   "execution_count": 1,
   "metadata": {},
   "outputs": [],
   "source": [
    "import pandas as pd\n",
    "import numpy as np\n",
    "\n",
    "import re\n",
    "import matplotlib.pyplot as plt"
   ]
  },
  {
   "cell_type": "code",
   "execution_count": 2,
   "metadata": {},
   "outputs": [
    {
     "data": {
      "text/html": [
       "<div>\n",
       "<style scoped>\n",
       "    .dataframe tbody tr th:only-of-type {\n",
       "        vertical-align: middle;\n",
       "    }\n",
       "\n",
       "    .dataframe tbody tr th {\n",
       "        vertical-align: top;\n",
       "    }\n",
       "\n",
       "    .dataframe thead th {\n",
       "        text-align: right;\n",
       "    }\n",
       "</style>\n",
       "<table border=\"1\" class=\"dataframe\">\n",
       "  <thead>\n",
       "    <tr style=\"text-align: right;\">\n",
       "      <th></th>\n",
       "      <th>id</th>\n",
       "      <th>source</th>\n",
       "      <th>title</th>\n",
       "      <th>image</th>\n",
       "      <th>url</th>\n",
       "      <th>content</th>\n",
       "      <th>date</th>\n",
       "      <th>embedding</th>\n",
       "      <th>created_at</th>\n",
       "      <th>updated_at</th>\n",
       "      <th>summary</th>\n",
       "    </tr>\n",
       "  </thead>\n",
       "  <tbody>\n",
       "    <tr>\n",
       "      <th>0</th>\n",
       "      <td>83</td>\n",
       "      <td>tempo</td>\n",
       "      <td>Depo Plumpang Terbakar, Anggota DPR Minta Pert...</td>\n",
       "      <td>https://statik.tempo.co/data/2023/03/04/id_118...</td>\n",
       "      <td>https://nasional.tempo.co/read/1698528/depo-pl...</td>\n",
       "      <td>TEMPO.CO, Jakarta - Anggota Komisi VII DPR RI ...</td>\n",
       "      <td>2023-03-04 06:18:13+00</td>\n",
       "      <td>[-0.01590039,-0.034130897,0.005732614,-0.01853...</td>\n",
       "      <td>2023-03-04 07:03:39.039332</td>\n",
       "      <td>2023-03-04 07:03:39.039332</td>\n",
       "      <td>Anggota Komisi VII DPR RI Rofik Hananto menyay...</td>\n",
       "    </tr>\n",
       "    <tr>\n",
       "      <th>1</th>\n",
       "      <td>84</td>\n",
       "      <td>tempo</td>\n",
       "      <td>Jokowi Perintahkan Wapres Ma'ruf Amin Tinjau L...</td>\n",
       "      <td>https://statik.tempo.co/data/2023/03/04/id_118...</td>\n",
       "      <td>https://nasional.tempo.co/read/1698522/jokowi-...</td>\n",
       "      <td>TEMPO.CO, Jakarta - Presiden Joko Widodo atau ...</td>\n",
       "      <td>2023-03-04 06:04:38+00</td>\n",
       "      <td>[-0.017608976,-0.021786924,0.01547983,-0.00932...</td>\n",
       "      <td>2023-03-04 07:03:39.039332</td>\n",
       "      <td>2023-03-04 07:03:39.039332</td>\n",
       "      <td>Presiden Joko Widodo telah memerintahkan Wakil...</td>\n",
       "    </tr>\n",
       "    <tr>\n",
       "      <th>2</th>\n",
       "      <td>85</td>\n",
       "      <td>tempo</td>\n",
       "      <td>HNW Mendukung Jamaah Umroh First Travel Dapatk...</td>\n",
       "      <td>https://statik.tempo.co/data/2023/03/04/id_118...</td>\n",
       "      <td>https://nasional.tempo.co/read/1698527/hnw-men...</td>\n",
       "      <td>INFO NASIONAL - Wakil Ketua MPR RI Dr. H. M. H...</td>\n",
       "      <td>2023-03-04 06:18:04+00</td>\n",
       "      <td>[0.00841488,-0.023665192,0.006762431,-0.013723...</td>\n",
       "      <td>2023-03-04 07:03:39.039332</td>\n",
       "      <td>2023-03-04 07:03:39.039332</td>\n",
       "      <td>Wakil Ketua MPR RI Dr. H. M. Hidayat Nur Wahid...</td>\n",
       "    </tr>\n",
       "    <tr>\n",
       "      <th>3</th>\n",
       "      <td>86</td>\n",
       "      <td>tempo</td>\n",
       "      <td>Tim Dokkes Polri Telah Terima 14 Kantong Jenaz...</td>\n",
       "      <td>https://statik.tempo.co/data/2023/03/04/id_118...</td>\n",
       "      <td>https://nasional.tempo.co/read/1698540/tim-dok...</td>\n",
       "      <td>TEMPO.CO, Jakarta - Tim Kedokteran dan Kesehat...</td>\n",
       "      <td>2023-03-04 06:44:10+00</td>\n",
       "      <td>[-0.012671886,-0.0039057182,0.019575326,-0.016...</td>\n",
       "      <td>2023-03-04 07:03:39.039332</td>\n",
       "      <td>2023-03-04 07:03:39.039332</td>\n",
       "      <td>Tim Kedokteran dan Kesehatan (Dokkes) Polri te...</td>\n",
       "    </tr>\n",
       "    <tr>\n",
       "      <th>4</th>\n",
       "      <td>87</td>\n",
       "      <td>tempo</td>\n",
       "      <td>Bamsoet Ajak Komunitas Otomotif Kembangkan Per...</td>\n",
       "      <td>https://statik.tempo.co/data/2023/03/04/id_118...</td>\n",
       "      <td>https://nasional.tempo.co/read/1698536/bamsoet...</td>\n",
       "      <td>INFO NASIONAL - Ketua MPR RI sekaligus Ketua U...</td>\n",
       "      <td>2023-03-04 06:38:57+00</td>\n",
       "      <td>[-0.015486176,-0.0125719,-0.0122843925,-0.0343...</td>\n",
       "      <td>2023-03-04 07:03:39.039332</td>\n",
       "      <td>2023-03-04 07:03:39.039332</td>\n",
       "      <td>Ketua MPR RI Bambang Soesatyo telah diangkat s...</td>\n",
       "    </tr>\n",
       "  </tbody>\n",
       "</table>\n",
       "</div>"
      ],
      "text/plain": [
       "   id source                                              title  \\\n",
       "0  83  tempo  Depo Plumpang Terbakar, Anggota DPR Minta Pert...   \n",
       "1  84  tempo  Jokowi Perintahkan Wapres Ma'ruf Amin Tinjau L...   \n",
       "2  85  tempo  HNW Mendukung Jamaah Umroh First Travel Dapatk...   \n",
       "3  86  tempo  Tim Dokkes Polri Telah Terima 14 Kantong Jenaz...   \n",
       "4  87  tempo  Bamsoet Ajak Komunitas Otomotif Kembangkan Per...   \n",
       "\n",
       "                                               image  \\\n",
       "0  https://statik.tempo.co/data/2023/03/04/id_118...   \n",
       "1  https://statik.tempo.co/data/2023/03/04/id_118...   \n",
       "2  https://statik.tempo.co/data/2023/03/04/id_118...   \n",
       "3  https://statik.tempo.co/data/2023/03/04/id_118...   \n",
       "4  https://statik.tempo.co/data/2023/03/04/id_118...   \n",
       "\n",
       "                                                 url  \\\n",
       "0  https://nasional.tempo.co/read/1698528/depo-pl...   \n",
       "1  https://nasional.tempo.co/read/1698522/jokowi-...   \n",
       "2  https://nasional.tempo.co/read/1698527/hnw-men...   \n",
       "3  https://nasional.tempo.co/read/1698540/tim-dok...   \n",
       "4  https://nasional.tempo.co/read/1698536/bamsoet...   \n",
       "\n",
       "                                             content                    date  \\\n",
       "0  TEMPO.CO, Jakarta - Anggota Komisi VII DPR RI ...  2023-03-04 06:18:13+00   \n",
       "1  TEMPO.CO, Jakarta - Presiden Joko Widodo atau ...  2023-03-04 06:04:38+00   \n",
       "2  INFO NASIONAL - Wakil Ketua MPR RI Dr. H. M. H...  2023-03-04 06:18:04+00   \n",
       "3  TEMPO.CO, Jakarta - Tim Kedokteran dan Kesehat...  2023-03-04 06:44:10+00   \n",
       "4  INFO NASIONAL - Ketua MPR RI sekaligus Ketua U...  2023-03-04 06:38:57+00   \n",
       "\n",
       "                                           embedding  \\\n",
       "0  [-0.01590039,-0.034130897,0.005732614,-0.01853...   \n",
       "1  [-0.017608976,-0.021786924,0.01547983,-0.00932...   \n",
       "2  [0.00841488,-0.023665192,0.006762431,-0.013723...   \n",
       "3  [-0.012671886,-0.0039057182,0.019575326,-0.016...   \n",
       "4  [-0.015486176,-0.0125719,-0.0122843925,-0.0343...   \n",
       "\n",
       "                   created_at                  updated_at  \\\n",
       "0  2023-03-04 07:03:39.039332  2023-03-04 07:03:39.039332   \n",
       "1  2023-03-04 07:03:39.039332  2023-03-04 07:03:39.039332   \n",
       "2  2023-03-04 07:03:39.039332  2023-03-04 07:03:39.039332   \n",
       "3  2023-03-04 07:03:39.039332  2023-03-04 07:03:39.039332   \n",
       "4  2023-03-04 07:03:39.039332  2023-03-04 07:03:39.039332   \n",
       "\n",
       "                                             summary  \n",
       "0  Anggota Komisi VII DPR RI Rofik Hananto menyay...  \n",
       "1  Presiden Joko Widodo telah memerintahkan Wakil...  \n",
       "2  Wakil Ketua MPR RI Dr. H. M. Hidayat Nur Wahid...  \n",
       "3  Tim Kedokteran dan Kesehatan (Dokkes) Polri te...  \n",
       "4  Ketua MPR RI Bambang Soesatyo telah diangkat s...  "
      ]
     },
     "execution_count": 2,
     "metadata": {},
     "output_type": "execute_result"
    }
   ],
   "source": [
    "# Dataset Mentah\n",
    "\n",
    "dataset_raw_df = pd.read_csv (\"..\\Dataset\\Indonesian News Dataset.csv\")\n",
    "dataset_raw_df.head()"
   ]
  },
  {
   "cell_type": "markdown",
   "metadata": {},
   "source": [
    "## Preprocessing Dataset"
   ]
  },
  {
   "cell_type": "code",
   "execution_count": 3,
   "metadata": {},
   "outputs": [
    {
     "data": {
      "text/html": [
       "<div>\n",
       "<style scoped>\n",
       "    .dataframe tbody tr th:only-of-type {\n",
       "        vertical-align: middle;\n",
       "    }\n",
       "\n",
       "    .dataframe tbody tr th {\n",
       "        vertical-align: top;\n",
       "    }\n",
       "\n",
       "    .dataframe thead th {\n",
       "        text-align: right;\n",
       "    }\n",
       "</style>\n",
       "<table border=\"1\" class=\"dataframe\">\n",
       "  <thead>\n",
       "    <tr style=\"text-align: right;\">\n",
       "      <th></th>\n",
       "      <th>content</th>\n",
       "      <th>summary</th>\n",
       "    </tr>\n",
       "  </thead>\n",
       "  <tbody>\n",
       "    <tr>\n",
       "      <th>0</th>\n",
       "      <td>TEMPO.CO, Jakarta - Anggota Komisi VII DPR RI ...</td>\n",
       "      <td>Anggota Komisi VII DPR RI Rofik Hananto menyay...</td>\n",
       "    </tr>\n",
       "    <tr>\n",
       "      <th>1</th>\n",
       "      <td>TEMPO.CO, Jakarta - Presiden Joko Widodo atau ...</td>\n",
       "      <td>Presiden Joko Widodo telah memerintahkan Wakil...</td>\n",
       "    </tr>\n",
       "    <tr>\n",
       "      <th>2</th>\n",
       "      <td>INFO NASIONAL - Wakil Ketua MPR RI Dr. H. M. H...</td>\n",
       "      <td>Wakil Ketua MPR RI Dr. H. M. Hidayat Nur Wahid...</td>\n",
       "    </tr>\n",
       "    <tr>\n",
       "      <th>3</th>\n",
       "      <td>TEMPO.CO, Jakarta - Tim Kedokteran dan Kesehat...</td>\n",
       "      <td>Tim Kedokteran dan Kesehatan (Dokkes) Polri te...</td>\n",
       "    </tr>\n",
       "    <tr>\n",
       "      <th>4</th>\n",
       "      <td>INFO NASIONAL - Ketua MPR RI sekaligus Ketua U...</td>\n",
       "      <td>Ketua MPR RI Bambang Soesatyo telah diangkat s...</td>\n",
       "    </tr>\n",
       "    <tr>\n",
       "      <th>...</th>\n",
       "      <td>...</td>\n",
       "      <td>...</td>\n",
       "    </tr>\n",
       "    <tr>\n",
       "      <th>32730</th>\n",
       "      <td>menjadi salah satu lubang terdalam dan tergela...</td>\n",
       "      <td>Peneliti berhasil mengungkap sedikit demi sedi...</td>\n",
       "    </tr>\n",
       "    <tr>\n",
       "      <th>32731</th>\n",
       "      <td>Seorang guru SD di Banyuwangi ditangkap oleh p...</td>\n",
       "      <td>Seorang guru SD di Banyuwangi ditangkap polisi...</td>\n",
       "    </tr>\n",
       "    <tr>\n",
       "      <th>32732</th>\n",
       "      <td>Pelatih , Aji Santoso, salut dengan sambutan s...</td>\n",
       "      <td>Pelatih Persebaya, Aji Santoso, menyampaikan s...</td>\n",
       "    </tr>\n",
       "    <tr>\n",
       "      <th>32733</th>\n",
       "      <td>Suasana haru terjadi usai sidang terdakwa Suge...</td>\n",
       "      <td>Sugeng Guruh Gautama Legiman, terdakwa kasus k...</td>\n",
       "    </tr>\n",
       "    <tr>\n",
       "      <th>32734</th>\n",
       "      <td>TEMPO.CO, Jakarta - Presiden Joko Widodo telah...</td>\n",
       "      <td>Presiden Jokowi telah menetapkan besaran Biaya...</td>\n",
       "    </tr>\n",
       "  </tbody>\n",
       "</table>\n",
       "<p>32735 rows × 2 columns</p>\n",
       "</div>"
      ],
      "text/plain": [
       "                                                 content  \\\n",
       "0      TEMPO.CO, Jakarta - Anggota Komisi VII DPR RI ...   \n",
       "1      TEMPO.CO, Jakarta - Presiden Joko Widodo atau ...   \n",
       "2      INFO NASIONAL - Wakil Ketua MPR RI Dr. H. M. H...   \n",
       "3      TEMPO.CO, Jakarta - Tim Kedokteran dan Kesehat...   \n",
       "4      INFO NASIONAL - Ketua MPR RI sekaligus Ketua U...   \n",
       "...                                                  ...   \n",
       "32730  menjadi salah satu lubang terdalam dan tergela...   \n",
       "32731  Seorang guru SD di Banyuwangi ditangkap oleh p...   \n",
       "32732  Pelatih , Aji Santoso, salut dengan sambutan s...   \n",
       "32733  Suasana haru terjadi usai sidang terdakwa Suge...   \n",
       "32734  TEMPO.CO, Jakarta - Presiden Joko Widodo telah...   \n",
       "\n",
       "                                                 summary  \n",
       "0      Anggota Komisi VII DPR RI Rofik Hananto menyay...  \n",
       "1      Presiden Joko Widodo telah memerintahkan Wakil...  \n",
       "2      Wakil Ketua MPR RI Dr. H. M. Hidayat Nur Wahid...  \n",
       "3      Tim Kedokteran dan Kesehatan (Dokkes) Polri te...  \n",
       "4      Ketua MPR RI Bambang Soesatyo telah diangkat s...  \n",
       "...                                                  ...  \n",
       "32730  Peneliti berhasil mengungkap sedikit demi sedi...  \n",
       "32731  Seorang guru SD di Banyuwangi ditangkap polisi...  \n",
       "32732  Pelatih Persebaya, Aji Santoso, menyampaikan s...  \n",
       "32733  Sugeng Guruh Gautama Legiman, terdakwa kasus k...  \n",
       "32734  Presiden Jokowi telah menetapkan besaran Biaya...  \n",
       "\n",
       "[32735 rows x 2 columns]"
      ]
     },
     "execution_count": 3,
     "metadata": {},
     "output_type": "execute_result"
    }
   ],
   "source": [
    "# Memilih kolom yang digunakan pada dataset (cuma butuh text sama summary)\n",
    "\n",
    "dataset_df = dataset_raw_df[[\"content\", \"summary\"]]\n",
    "dataset_df"
   ]
  },
  {
   "cell_type": "code",
   "execution_count": 4,
   "metadata": {},
   "outputs": [],
   "source": [
    "# Bersih-bersih kalau ada whitespace atau ada simbol simbol yang aneh\n",
    "\n",
    "import re\n",
    "\n",
    "def text_strip(column):\n",
    "    for row in column:\n",
    "        \n",
    "        # Jangan ubah urutan regex\n",
    "\n",
    "        # Remove escape characters\n",
    "        row = re.sub(r\"(\\\\t|\\\\r|\\\\n|\\t|\\r|\\n)\", ' ', str(row)).lower()\n",
    "        # Remove consecutive occurrences of special characters\n",
    "        row = re.sub(r\"(__+|-+|~+|\\++|\\.\\.+)\", ' ', row)\n",
    "        # Remove various special characters\n",
    "        row = re.sub(r\"[<>()|&©ø\\[\\]\\'\\\",;?~*!]\", ' ', row)\n",
    "        # Remove 'mailto:'\n",
    "        row = re.sub(r\"(mailto:)\", ' ', row)\n",
    "        # Remove '\\x9*'\n",
    "        row = re.sub(r\"(\\\\x9\\d)\", ' ', row)\n",
    "        # Replace 'INC' followed by numbers with 'INC_NUM'\n",
    "        row = re.sub(r\"([iI][nN][cC]\\d+)\", 'INC_NUM', row)\n",
    "        # Replace 'CM' or 'CHG' followed by numbers with 'CM_NUM'\n",
    "        row = re.sub(r\"([cC][mM]\\d+)|([cC][hH][gG]\\d+)\", 'CM_NUM', row)\n",
    "        # Remove full stop, dash, and colon at the end of words\n",
    "        row = re.sub(r\"(\\.\\s+|\\-\\s+|\\:\\s+)\", ' ', row)\n",
    "        \n",
    "        row=re.sub(\"(\\s+.\\s+)\", ' ', str(row)).lower() #remove any single charecters hanging between 2 spaces\n",
    "        \n",
    "        #Replace any url as such https://abc.xyz.net/browse/sdf-5327 ====> abc.xyz.net\n",
    "        try:\n",
    "            url = re.search(r'((https*:\\/*)([^\\/\\s]+))(.[^\\s]+)', str(row))\n",
    "            repl_url = url.group(3)\n",
    "            row = re.sub(r'((https*:\\/*)([^\\/\\s]+))(.[^\\s]+)',repl_url, str(row))\n",
    "        except:\n",
    "            pass #there might be emails with no url in them\n",
    "        \n",
    "        row = re.sub(r\"(pilihan\\seditor).*\", '', row)\n",
    "        row = re.sub(r\"tempo.co|info\\snasional|suara.com\", '', str(row)).lower()\n",
    "\n",
    "        row = re.sub(\"(\\s+)\",' ',str(row)).lower() #remove multiple spaces\n",
    "        \n",
    "        #Should always be last\n",
    "        row=re.sub(\"(\\s+.\\s+)\", ' ', str(row)).lower() #remove any single characters hanging between 2 spaces\n",
    "\n",
    "        yield row"
   ]
  },
  {
   "cell_type": "code",
   "execution_count": 5,
   "metadata": {},
   "outputs": [
    {
     "name": "stdout",
     "output_type": "stream",
     "text": [
      " jakarta presiden joko widodo atau jokowi memerintahkan wakil presiden ma ruf amin untuk meninjau langsung lokasi kebakaran depo pertamina di plumpang jakarta utara kebakaran besar di lokasi tersebut terjadi pada jumat malam maret 2023 dan mengakibatkan belasan warga di sekitar depo tewas.presiden tidak ke plumpang hari ini tapi presiden sudah berkoordinasi dengan wapres yang akan meninjau hari ini ujar deputi bidang protokol pers dan media sekretariat presiden bey machmudin saat dihubungi sabtu februari 2023.selain memerintahkan ma ruf amin bey menyebut jokowi juga telah memberikan arahan kepada kapolri jenderal listyo sigit prabowo menteri bumn erick thohir dan penjabat gubernur dki jakarta heru budi hartono soal kunjungan ke lokasi.intinya presiden minta untuk mengutamakan evakuasi korban dan penanganan warga terdampak kata bey.kronologi kebakarandepo pertamina di plumpang jakarta utara terbakar pada jumat malam maret 2023 pukul 20.20 wib kepala dinas penanggulangan kebakaran dan penyelamatan dki jakarta satriadi gunawan mengatakan objek kebakaran tersebut adalah pipa bensin.sementara itu berdasarkan kesaksian warga tercium aroma bensin yang menyengat sebelum kebakaran terjadi dilansir dari antara salah seorang warga pandi mengatakan ada bau bensin yang santer sebelum kejadian saat ia melintas di daerah tersebut.hingga kini belum diketahui penyebab kebakaran hebat tersebut namun pihak pertamina mengaku masih menginvestigasi penyebab insiden itu.penyebab kejadian masih dalam proses investigasi kata area manager communication relation csr pertamina patra niaga regional jawa bagian barat eko kristiawan.eko juga menambahkan pihaknya saat ini fokus pada penanganan kebakaran pipa penerimaan bbm di integrated terminal bbm jakarta plumpang.setidaknya 17 orang dilaporkan meninggal dunia akibat insiden ini sementara 50 orang mengalami luka luka dengan berbagai tingkat keparahan.api yang menyambar hingga ke dua kawasan rumah warga rw ini juga mengakibatkan ratusan orang terpaksa mengungsi badan penanggulangan bencana daerah bpbd dki jakarta menyatakan warga yang mengungsi akibat kebakaran mencapai 579 jiwa mereka tersebar di enam titik pengungsian pengungsi info sementara 579 jiwa demikian keterangan bpbd dki jakarta sabtu maret 2024.\n"
     ]
    }
   ],
   "source": [
    "# Sample input\n",
    "input_text = \"TEMPO.CO, Jakarta - Presiden Joko Widodo atau Jokowi memerintahkan Wakil Presiden Ma'ruf Amin untuk meninjau langsung lokasi kebakaran depo Pertamina di Plumpang, Jakarta Utara. Kebakaran besar di lokasi tersebut terjadi pada Jumat malam, 3 Maret 2023, dan mengakibatkan belasan warga di sekitar depo tewas.Presiden tidak ke Plumpang hari ini. Tapi, Presiden sudah berkoordinasi dengan Wapres yang akan meninjau hari ini, ujar Deputi Bidang Protokol, Pers, dan Media Sekretariat Presiden Bey Machmudin saat dihubungi, Sabtu, 4 Februari 2023.Selain memerintahkan Ma'ruf Amin, Bey menyebut Jokowi juga telah memberikan arahan kepada Kapolri Jenderal Listyo Sigit Prabowo, Menteri BUMN Erick Thohir, dan Penjabat Gubernur DKI Jakarta Heru Budi Hartono soal kunjungan ke lokasi.Intinya Presiden minta untuk mengutamakan evakuasi korban dan penanganan warga terdampak, kata Bey.Kronologi KebakaranDepo Pertamina di Plumpang, Jakarta Utara, terbakar pada Jumat malam, 3 Maret 2023, pukul 20.20 WIB. Kepala Dinas Penanggulangan Kebakaran dan Penyelamatan DKI Jakarta, Satriadi Gunawan, mengatakan, objek kebakaran tersebut adalah pipa bensin.Sementara itu, berdasarkan kesaksian warga, tercium aroma bensin yang menyengat sebelum kebakaran terjadi. Dilansir dari Antara, salah seorang warga, Pandi mengatakan, ada bau bensin yang santer sebelum kejadian saat ia melintas di daerah tersebut.Hingga kini belum diketahui penyebab kebakaran hebat tersebut. Namun, pihak Pertamina mengaku masih menginvestigasi penyebab insiden itu.Penyebab kejadian masih dalam proses investigasi, kata Area Manager Communication, Relation & CSR Pertamina Patra Niaga Regional Jawa Bagian Barat Eko Kristiawan.Eko juga menambahkan pihaknya saat ini fokus pada penanganan kebakaran pipa penerimaan BBM di Integrated Terminal BBM Jakarta, Plumpang.Setidaknya 17 orang dilaporkan meninggal dunia akibat insiden ini. Sementara 50 orang mengalami luka-luka dengan berbagai tingkat keparahan.Api yang menyambar hingga ke dua kawasan rumah warga (RW) ini juga mengakibatkan ratusan orang terpaksa mengungsi. Badan Penanggulangan Bencana Daerah (BPBD) DKI Jakarta menyatakan warga yang mengungsi akibat kebakaran mencapai 579 jiwa. Mereka tersebar di enam titik pengungsian. Pengungsi info sementara 579 jiwa, demikian keterangan BPBD DKI Jakarta, Sabtu, 4 Maret 2024.Pilihan Editor:Profil Depo Pertamina Plumpang, Pemasok 20 Persen Pasokan BBM di Seluruh Indonesia\"\n",
    "\n",
    "# Apply the text_strip function to the input text\n",
    "cleaned_text = next(text_strip([input_text]))\n",
    "\n",
    "# Print the cleaned text\n",
    "print(cleaned_text)"
   ]
  },
  {
   "cell_type": "code",
   "execution_count": 6,
   "metadata": {},
   "outputs": [],
   "source": [
    "# Di apply bersih-bersih yang tadi\n",
    "\n",
    "brief_cleaning1 = text_strip(dataset_df['content'])\n",
    "brief_cleaning2 = text_strip(dataset_df['summary'])"
   ]
  },
  {
   "cell_type": "code",
   "execution_count": 7,
   "metadata": {},
   "outputs": [],
   "source": [
    "# Pake library spacy buat batch (ini kepake nanti sih pas pake dataset full, datanya kan cuma 1000, batch sizenya 5000 jadi rada gaguna sekarang)\n",
    "\n",
    "import spacy\n",
    "from spacy.lang.id import Indonesian\n",
    "from time import time\n",
    "\n",
    "nlp = Indonesian()  # Load Indonesian spaCy model\n",
    "\n",
    "t = time()"
   ]
  },
  {
   "cell_type": "code",
   "execution_count": 8,
   "metadata": {},
   "outputs": [
    {
     "name": "stdout",
     "output_type": "stream",
     "text": [
      "Time to clean up text: 1.23 mins\n",
      "Example Text :   menteri pertanian syahrul yasin limpo meminta organisasi rumah petani nelayan nusantara rpnn untuk menggunakan anggaran kredit usaha rakyat kur sebagai dukungan bersama dalam meningkatkan produktivitas saya berharap rpnn mampu menggunakan kur sebagai dukungan bersama terhadap jalannya produksi dan usaha tani kami tidak ada bantuan karena yang ada hanya gagasan kata syahrul saat membuka rapat kerja nasional rpnn di komplek pusat pelatihan manajemen kepemimpinan ppmk ciawi bogor jawa barat sabtu maret 2023.syahrul menjelaskan kredit usaha rakyat adalah program yang dicanangkan presiden jokowi dalam membantu petani mendapatkan akses perkreditan program ini menjangkau semua petani dari berbagai kalangan di seluruh indonesia.terutama kalangan petani milenial yang memiliki kemampuan dalam mengunakan teknologi digitalisasi saya katakan salah satu fasilitas yang diberikan bapak presiden itu adalah kredit usaha rakyat tentu aksesnya dengan pengawalan yang sangat ketat dan rasanya ini sangat berarti bagi teman teman petani di seluruh indonesia ujarnya.menurut syahrul pertanian adalah sektor yang sangat menjanjikan bagi semua kalangan yang mau berusaha dan bekerja keras pertanian juga menjadi sektor yang paling rentan terhadap gangguan dan krisis ekonomi.dengan kata lain syahrul melanjutkan pertanian memastikan rakyat tidak jatuh pada lubang kemiskinan kalau bapak urus pertanian dengan baik pasti tidak miskin saya kira inilah saatnya kita membela bangsa dan negara posisi kementan dengan rpnn harus menjadi yang dituju rakyat percayalah pertanian itu kokoh dan kuat kata syahrul.ketua rpnn slamet mengatakan organisasinya terdiri dari berbagai kalangan yang memiliki misi sama yaitu mewujudkan petani nelayan sejahtera slamet mengaku siap mendukung kesuksesan program yang dijalankan pemerintah pertama kami siap melakukan pemberdayaan dan kedua kami siap bergerak bersama memperbaiki nasib petani agar tidak terpinggirkan alhamdulillah kita sudah banyak bergerak di komoditas ubi jagung padi dan juga peternakan kami siap membela kepentingan petani kata dia \n"
     ]
    }
   ],
   "source": [
    "text = [str(doc) for doc in nlp.pipe(brief_cleaning1, batch_size=5000, n_process=-1)]\n",
    "print('Time to clean up text: {} mins'.format(round((time() - t) / 60, 2)))\n",
    "\n",
    "print('Example Text : ', text[25])"
   ]
  },
  {
   "cell_type": "code",
   "execution_count": 9,
   "metadata": {},
   "outputs": [
    {
     "name": "stdout",
     "output_type": "stream",
     "text": [
      "Time to clean up summary: 2.02 mins\n",
      "Example Summary :  _START_ menteri pertanian syahrul yasin limpo meminta organisasi rumah petani nelayan nusantara rpnn untuk menggunakan anggaran kredit usaha rakyat kur sebagai dukungan bersama dalam meningkatkan produktivitas kur adalah program yang dicanangkan presiden jokowi untuk membantu petani mendapatkan akses perkreditan ketua rpnn slamet mengatakan organisasinya siap mendukung kesuksesan program pemerintah dan membela kepentingan petani. _END_\n"
     ]
    }
   ],
   "source": [
    "summary = ['_START_ '+ str(doc) + ' _END_' for doc in nlp.pipe(brief_cleaning2, batch_size=5000, n_process=-1)]\n",
    "print('Time to clean up summary: {} mins'.format(round((time() - t) / 60, 2)))\n",
    "\n",
    "print('Example Summary : ', summary[25])"
   ]
  },
  {
   "cell_type": "code",
   "execution_count": 21,
   "metadata": {},
   "outputs": [],
   "source": [
    "dataset_df.loc[:, 'cleaned_text'] = pd.Series(text)\n",
    "dataset_df.loc[:, 'cleaned_summary'] = pd.Series(summary)"
   ]
  },
  {
   "cell_type": "code",
   "execution_count": 11,
   "metadata": {},
   "outputs": [],
   "source": [
    "# Menghitung panjang text & summary\n",
    "\n",
    "text_count = []\n",
    "summary_count = []\n",
    "\n",
    "for sent in dataset_df['cleaned_text']:\n",
    "    text_count.append(len(sent.split()))\n",
    "for sent in dataset_df['cleaned_summary']:\n",
    "    summary_count.append(len(sent.split()))"
   ]
  },
  {
   "cell_type": "code",
   "execution_count": 12,
   "metadata": {},
   "outputs": [
    {
     "data": {
      "image/png": "[encoded data removed]",
      "text/plain": [
       "<Figure size 640x480 with 2 Axes>"
      ]
     },
     "metadata": {},
     "output_type": "display_data"
    }
   ],
   "source": [
    "#Dijadiin graph biar keliatan rata-rata text itu panjangnya berapa\n",
    "\n",
    "graph_df= pd.DataFrame()\n",
    "graph_df['text']=text_count\n",
    "graph_df['summary']=summary_count\n",
    "graph_df.hist(bins = 5)\n",
    "plt.show()"
   ]
  },
  {
   "cell_type": "code",
   "execution_count": 13,
   "metadata": {},
   "outputs": [
    {
     "name": "stdout",
     "output_type": "stream",
     "text": [
      "% of Text that have 0 - 100 word =  99.51 %\n"
     ]
    }
   ],
   "source": [
    "# Dari graph kelihatan kalo mayoritas summary tuh ada di rentan 100 kata\n",
    "# Check how much % of summary have 0-100 words\n",
    "\n",
    "cnt=0\n",
    "for i in dataset_df['cleaned_summary']:\n",
    "    if(len(i.split())<=100):\n",
    "        cnt=cnt+1\n",
    "print(\"% of Text that have 0 - 100 word = \", (round(cnt/len(dataset_df['cleaned_summary']) * 100, 2)), \"%\")"
   ]
  },
  {
   "cell_type": "code",
   "execution_count": 14,
   "metadata": {},
   "outputs": [
    {
     "name": "stdout",
     "output_type": "stream",
     "text": [
      "% of Text that have 0 - 900 word =  99.02 %\n"
     ]
    }
   ],
   "source": [
    "# Dari graph kelihatan kalo mayoritas text tuh ada di rentan 900 kata\n",
    "# Check how much % of text have 0-900 words\n",
    "\n",
    "cnt=0\n",
    "for i in dataset_df['cleaned_text']:\n",
    "    if(len(i.split())<=900):\n",
    "        cnt=cnt+1\n",
    "print(\"% of Text that have 0 - 900 word = \", (round(cnt/len(dataset_df['cleaned_text']) * 100, 2)), \"%\")"
   ]
  },
  {
   "cell_type": "code",
   "execution_count": 15,
   "metadata": {},
   "outputs": [],
   "source": [
    "# Model to summarize the text between 0-100 words for Summary and 0-900 words for Text\n",
    "# Diset max nya untuk buang outlier\n",
    "\n",
    "max_text_len=900\n",
    "max_summary_len=100"
   ]
  },
  {
   "cell_type": "code",
   "execution_count": 16,
   "metadata": {},
   "outputs": [],
   "source": [
    "# Select the Summaries and Text between max len defined above\n",
    "\n",
    "cleaned_text =np.array(dataset_df['cleaned_text'])\n",
    "cleaned_summary=np.array(dataset_df['cleaned_summary'])\n",
    "\n",
    "short_text=[]\n",
    "short_summary=[]\n",
    "\n",
    "for i in range(len(cleaned_text)):\n",
    "    if(len(cleaned_summary[i].split())<=max_summary_len and len(cleaned_text[i].split())<=max_text_len):\n",
    "        short_text.append(cleaned_text[i])\n",
    "        short_summary.append(cleaned_summary[i])\n",
    "        \n",
    "post_pre=pd.DataFrame({'text':short_text,'summary':short_summary})"
   ]
  },
  {
   "cell_type": "code",
   "execution_count": 17,
   "metadata": {},
   "outputs": [
    {
     "data": {
      "text/html": [
       "<div>\n",
       "<style scoped>\n",
       "    .dataframe tbody tr th:only-of-type {\n",
       "        vertical-align: middle;\n",
       "    }\n",
       "\n",
       "    .dataframe tbody tr th {\n",
       "        vertical-align: top;\n",
       "    }\n",
       "\n",
       "    .dataframe thead th {\n",
       "        text-align: right;\n",
       "    }\n",
       "</style>\n",
       "<table border=\"1\" class=\"dataframe\">\n",
       "  <thead>\n",
       "    <tr style=\"text-align: right;\">\n",
       "      <th></th>\n",
       "      <th>text</th>\n",
       "      <th>summary</th>\n",
       "    </tr>\n",
       "  </thead>\n",
       "  <tbody>\n",
       "    <tr>\n",
       "      <th>0</th>\n",
       "      <td>jakarta anggota komisi vii dpr ri rofik hanan...</td>\n",
       "      <td>_START_ anggota komisi vii dpr ri rofik hanant...</td>\n",
       "    </tr>\n",
       "    <tr>\n",
       "      <th>1</th>\n",
       "      <td>jakarta presiden joko widodo atau jokowi meme...</td>\n",
       "      <td>_START_ presiden joko widodo telah memerintahk...</td>\n",
       "    </tr>\n",
       "    <tr>\n",
       "      <th>2</th>\n",
       "      <td>wakil ketua mpr ri dr hidayat nur wahid ma at...</td>\n",
       "      <td>_START_ wakil ketua mpr ri dr hidayat nur wahi...</td>\n",
       "    </tr>\n",
       "    <tr>\n",
       "      <th>3</th>\n",
       "      <td>jakarta tim kedokteran dan kesehatan dokkes p...</td>\n",
       "      <td>_START_ tim kedokteran dan kesehatan dokkes po...</td>\n",
       "    </tr>\n",
       "    <tr>\n",
       "      <th>4</th>\n",
       "      <td>ketua mpr ri sekaligus ketua umum ikatan moto...</td>\n",
       "      <td>_START_ ketua mpr ri bambang soesatyo telah di...</td>\n",
       "    </tr>\n",
       "    <tr>\n",
       "      <th>...</th>\n",
       "      <td>...</td>\n",
       "      <td>...</td>\n",
       "    </tr>\n",
       "    <tr>\n",
       "      <th>32258</th>\n",
       "      <td>menjadi salah satu lubang terdalam dan tergela...</td>\n",
       "      <td>_START_ peneliti berhasil mengungkap sedikit d...</td>\n",
       "    </tr>\n",
       "    <tr>\n",
       "      <th>32259</th>\n",
       "      <td>seorang guru sd di banyuwangi ditangkap oleh p...</td>\n",
       "      <td>_START_ seorang guru sd di banyuwangi ditangka...</td>\n",
       "    </tr>\n",
       "    <tr>\n",
       "      <th>32260</th>\n",
       "      <td>pelatih aji santoso salut dengan sambutan saat...</td>\n",
       "      <td>_START_ pelatih persebaya aji santoso menyampa...</td>\n",
       "    </tr>\n",
       "    <tr>\n",
       "      <th>32261</th>\n",
       "      <td>suasana haru terjadi usai sidang terdakwa suge...</td>\n",
       "      <td>_START_ sugeng guruh gautama legiman terdakwa ...</td>\n",
       "    </tr>\n",
       "    <tr>\n",
       "      <th>32262</th>\n",
       "      <td>jakarta presiden joko widodo telah secara res...</td>\n",
       "      <td>_START_ presiden jokowi telah menetapkan besar...</td>\n",
       "    </tr>\n",
       "  </tbody>\n",
       "</table>\n",
       "<p>32263 rows × 2 columns</p>\n",
       "</div>"
      ],
      "text/plain": [
       "                                                    text  \\\n",
       "0       jakarta anggota komisi vii dpr ri rofik hanan...   \n",
       "1       jakarta presiden joko widodo atau jokowi meme...   \n",
       "2       wakil ketua mpr ri dr hidayat nur wahid ma at...   \n",
       "3       jakarta tim kedokteran dan kesehatan dokkes p...   \n",
       "4       ketua mpr ri sekaligus ketua umum ikatan moto...   \n",
       "...                                                  ...   \n",
       "32258  menjadi salah satu lubang terdalam dan tergela...   \n",
       "32259  seorang guru sd di banyuwangi ditangkap oleh p...   \n",
       "32260  pelatih aji santoso salut dengan sambutan saat...   \n",
       "32261  suasana haru terjadi usai sidang terdakwa suge...   \n",
       "32262   jakarta presiden joko widodo telah secara res...   \n",
       "\n",
       "                                                 summary  \n",
       "0      _START_ anggota komisi vii dpr ri rofik hanant...  \n",
       "1      _START_ presiden joko widodo telah memerintahk...  \n",
       "2      _START_ wakil ketua mpr ri dr hidayat nur wahi...  \n",
       "3      _START_ tim kedokteran dan kesehatan dokkes po...  \n",
       "4      _START_ ketua mpr ri bambang soesatyo telah di...  \n",
       "...                                                  ...  \n",
       "32258  _START_ peneliti berhasil mengungkap sedikit d...  \n",
       "32259  _START_ seorang guru sd di banyuwangi ditangka...  \n",
       "32260  _START_ pelatih persebaya aji santoso menyampa...  \n",
       "32261  _START_ sugeng guruh gautama legiman terdakwa ...  \n",
       "32262  _START_ presiden jokowi telah menetapkan besar...  \n",
       "\n",
       "[32263 rows x 2 columns]"
      ]
     },
     "execution_count": 17,
     "metadata": {},
     "output_type": "execute_result"
    }
   ],
   "source": [
    "post_pre"
   ]
  },
  {
   "cell_type": "code",
   "execution_count": 18,
   "metadata": {},
   "outputs": [],
   "source": [
    "post_pre.to_csv ('..\\Dataset\\Indonesian News Dataset Preprocessed.csv', index=False)"
   ]
  }
 ],
 "metadata": {
  "kernelspec": {
   "display_name": "base",
   "language": "python",
   "name": "python3"
  },
  "language_info": {
   "codemirror_mode": {
    "name": "ipython",
    "version": 3
   },
   "file_extension": ".py",
   "mimetype": "text/x-python",
   "name": "python",
   "nbconvert_exporter": "python",
   "pygments_lexer": "ipython3",
   "version": "3.11.7"
  }
 },
 "nbformat": 4,
 "nbformat_minor": 2
}
